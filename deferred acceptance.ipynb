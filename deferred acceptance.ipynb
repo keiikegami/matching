{
 "cells": [
  {
   "cell_type": "code",
   "execution_count": 1,
   "metadata": {
    "collapsed": false
   },
   "outputs": [
    {
     "name": "stdout",
     "output_type": "stream",
     "text": [
      "{'e': 'b', 'd': 'a', 'f': 'c'}\n"
     ]
    }
   ],
   "source": [
    "#なるほどね\n",
    "men=['a','b','c']\n",
    "women=['d','e','f']\n",
    "pref={'a':['d','e','f'],'b':['e','d','f'],'c':['d','e','f'],'d':['b','a','c'],'e':['a','b','c'],'f':['a','b','c']}\n",
    "for n in pref:\n",
    "        pref[n].reverse()\n",
    "rank={'d':{'a':2,'b':1,'c':3},'e':{'a':1,'b':2,'c':3},'f':{'a':1,'b':2,'c':3}}\n",
    "freemen=list(men)\n",
    "numpart=len(men)\n",
    "S={}\n",
    "while freemen:\n",
    "    m=freemen.pop()\n",
    "    if len(pref[m])==0:\n",
    "        continue\n",
    "    w=pref[m].pop()\n",
    "    if w not in S:\n",
    "        S[w]=m\n",
    "    else:\n",
    "        mprime=S[w]\n",
    "        if rank[w][m]<rank[w][mprime]:\n",
    "            S[w]=m\n",
    "            freemen.append(mprime)\n",
    "        else:\n",
    "            freemen.append(m)\n",
    "print S"
   ]
  },
  {
   "cell_type": "code",
   "execution_count": 3,
   "metadata": {
    "collapsed": true
   },
   "outputs": [],
   "source": [
    "list=['a','b']"
   ]
  },
  {
   "cell_type": "code",
   "execution_count": null,
   "metadata": {
    "collapsed": true
   },
   "outputs": [],
   "source": []
  },
  {
   "cell_type": "code",
   "execution_count": 8,
   "metadata": {
    "collapsed": false
   },
   "outputs": [
    {
     "data": {
      "text/plain": [
       "'c'"
      ]
     },
     "execution_count": 8,
     "metadata": {},
     "output_type": "execute_result"
    }
   ],
   "source": [
    "men.pop()"
   ]
  },
  {
   "cell_type": "code",
   "execution_count": 1,
   "metadata": {
    "collapsed": true
   },
   "outputs": [],
   "source": [
    "#deferred acceptance function\n",
    "#a　男リスト\n",
    "#c　preference list\n",
    "#d　女の男ランク\n",
    "def da(a,c,d):\n",
    "    for n in c:\n",
    "        c[n].reverse()\n",
    "    freemen=list(a)\n",
    "    numpart=len(a)\n",
    "    S={}\n",
    "    while freemen:\n",
    "        m=freemen.pop()\n",
    "        if len(c[m])==0:\n",
    "            continue\n",
    "        w=c[m].pop()\n",
    "        if w not in S:\n",
    "            S[w]=m\n",
    "        else:\n",
    "            mprime=S[w]\n",
    "            if d[w][m]<d[w][mprime]:\n",
    "                S[w]=m\n",
    "                freemen.append(mprime)\n",
    "            else:\n",
    "                freemen.append(m)\n",
    "    print S"
   ]
  },
  {
   "cell_type": "code",
   "execution_count": 2,
   "metadata": {
    "collapsed": false
   },
   "outputs": [
    {
     "name": "stdout",
     "output_type": "stream",
     "text": [
      "{'e': 'b', 'd': 'a', 'f': 'c'}\n"
     ]
    }
   ],
   "source": [
    "a=['a','b','c']\n",
    "c={'a':['d','e','f'],'b':['e','d','f'],'c':['d','e','f'],'d':['b','a','c'],'e':['a','b','c'],'f':['a','b','c']}\n",
    "d={'d':{'a':2,'b':1,'c':3},'e':{'a':1,'b':2,'c':3},'f':{'a':1,'b':2,'c':3}}\n",
    "da(a,c,d)"
   ]
  },
  {
   "cell_type": "code",
   "execution_count": null,
   "metadata": {
    "collapsed": false
   },
   "outputs": [],
   "source": [
    "range(1,3)"
   ]
  },
  {
   "cell_type": "code",
   "execution_count": 1,
   "metadata": {
    "collapsed": true
   },
   "outputs": [],
   "source": [
    "#引数をpref（順序付き）と人数\n",
    "# a={'a':{1:'d',2:'e',3:'f'},'b':{1:'e',2:'d',3:'f'},'c':{1:'d',2:'e',3:'f'}}\n",
    "#b={'d':{1:'b',2:'a',3:'c'},'e':{1:'a',2:'b',3:'c'},'f':{1:'a',2:'b',3:'c'}}\n",
    "#c=3\n",
    "def da2(a,b,c):\n",
    "    S={}\n",
    "    free=[]\n",
    "    for i in a:\n",
    "        free.append(i)\n",
    "    n=1\n",
    "    while free:\n",
    "        m=free.pop()\n",
    "        f=a[m][n]\n",
    "        if f not in S:\n",
    "            S[f]=m\n",
    "        else:\n",
    "            l=S[f]\n",
    "            for j in range(1,c+1):\n",
    "                if b[f][j]==m:\n",
    "                    d=j\n",
    "                else: continue\n",
    "            for k in range(1,c+1):\n",
    "                if b[f][k]==l:\n",
    "                    e=k\n",
    "                else: continue\n",
    "            if e<d:\n",
    "                free.append(m)\n",
    "                n+=1\n",
    "            else:\n",
    "                S[f]=m\n",
    "                free.append(l)\n",
    "                n+=1\n",
    "        if len(free)==0:\n",
    "            return S"
   ]
  },
  {
   "cell_type": "code",
   "execution_count": 55,
   "metadata": {
    "collapsed": true
   },
   "outputs": [],
   "source": [
    "a={'a':{1:'d',2:'e',3:'f'},'b':{1:'e',2:'d',3:'f'},'c':{1:'d',2:'e',3:'f'}}\n",
    "b={'d':{1:'b',2:'a',3:'c'},'e':{1:'a',2:'b',3:'c'},'f':{1:'a',2:'b',3:'c'}}"
   ]
  },
  {
   "cell_type": "code",
   "execution_count": 3,
   "metadata": {
    "collapsed": false
   },
   "outputs": [
    {
     "ename": "NameError",
     "evalue": "name 'c' is not defined",
     "output_type": "error",
     "traceback": [
      "\u001b[0;31m---------------------------------------------------------------------------\u001b[0m",
      "\u001b[0;31mNameError\u001b[0m                                 Traceback (most recent call last)",
      "\u001b[0;32m<ipython-input-3-bba94a40e676>\u001b[0m in \u001b[0;36m<module>\u001b[0;34m()\u001b[0m\n\u001b[0;32m----> 1\u001b[0;31m \u001b[0mda2\u001b[0m\u001b[0;34m(\u001b[0m\u001b[0ma\u001b[0m\u001b[0;34m,\u001b[0m\u001b[0mb\u001b[0m\u001b[0;34m,\u001b[0m\u001b[0mc\u001b[0m\u001b[0;34m)\u001b[0m\u001b[0;34m\u001b[0m\u001b[0m\n\u001b[0m",
      "\u001b[0;31mNameError\u001b[0m: name 'c' is not defined"
     ]
    }
   ],
   "source": [
    "da2(a,b,c)"
   ]
  },
  {
   "cell_type": "code",
   "execution_count": 56,
   "metadata": {
    "collapsed": false
   },
   "outputs": [],
   "source": [
    "#引数をpref（順序付き）と人数\n",
    "#男プロポーズと女プロポーズの結果を同時に表示\n",
    "# a={'a':{1:'d',2:'e',3:'f'},'b':{1:'e',2:'d',3:'f'},'c':{1:'d',2:'e',3:'f'}}\n",
    "#b={'d':{1:'b',2:'a',3:'c'},'e':{1:'a',2:'b',3:'c'},'f':{1:'a',2:'b',3:'c'}}\n",
    "#c=3\n",
    "def da2(a,b):\n",
    "    S={}\n",
    "    free=[]\n",
    "    T={}\n",
    "    wfree=[]\n",
    "    for i in a:\n",
    "        free.append(i)\n",
    "    for i in b:\n",
    "        wfree.append(i)\n",
    "    c=len(free)\n",
    "    n=1\n",
    "    while free:\n",
    "        m=free.pop()\n",
    "        f=a[m][n]\n",
    "        if f not in S:\n",
    "            S[f]=m\n",
    "        else:\n",
    "            l=S[f]\n",
    "            for j in range(1,c+1):\n",
    "                if b[f][j]==m:\n",
    "                    d=j\n",
    "                else: continue\n",
    "            for k in range(1,c+1):\n",
    "                if b[f][k]==l:\n",
    "                    e=k\n",
    "                else: continue\n",
    "            if e<d:\n",
    "                free.append(m)\n",
    "                n+=1\n",
    "            else:\n",
    "                S[f]=m\n",
    "                free.append(l)\n",
    "                n+=1\n",
    "        if len(free)==0: continue\n",
    "    g=1\n",
    "    while wfree:\n",
    "        m=wfree.pop()\n",
    "        f=b[m][g]\n",
    "        if f not in T:\n",
    "            T[f]=m\n",
    "        else:\n",
    "            l=T[f]\n",
    "            for j in range(1,c+1):\n",
    "                if a[f][j]==m:\n",
    "                    d=j\n",
    "                else: continue\n",
    "            for k in range(1,c+1):\n",
    "                if a[f][k]==l:\n",
    "                    e=k\n",
    "                else: continue\n",
    "            if e<d:\n",
    "                wfree.append(m)\n",
    "                g+=1\n",
    "            else:\n",
    "                T[f]=m\n",
    "                wfree.append(l)\n",
    "                g+=1\n",
    "        if len(wfree)==0:\n",
    "            return S,T"
   ]
  },
  {
   "cell_type": "code",
   "execution_count": 57,
   "metadata": {
    "collapsed": false
   },
   "outputs": [
    {
     "data": {
      "text/plain": [
       "({'d': 'a', 'e': 'b', 'f': 'c'}, {'a': 'e', 'b': 'd', 'c': 'f'})"
      ]
     },
     "execution_count": 57,
     "metadata": {},
     "output_type": "execute_result"
    }
   ],
   "source": [
    "da2(a,b)"
   ]
  },
  {
   "cell_type": "code",
   "execution_count": 17,
   "metadata": {
    "collapsed": false
   },
   "outputs": [],
   "source": [
    "x={1:{'a':'b','c':'d'}}\n",
    "y={2:{'e':'f'}}"
   ]
  },
  {
   "cell_type": "code",
   "execution_count": 19,
   "metadata": {
    "collapsed": false
   },
   "outputs": [],
   "source": [
    "x.update(y)"
   ]
  },
  {
   "cell_type": "code",
   "execution_count": 20,
   "metadata": {
    "collapsed": false
   },
   "outputs": [
    {
     "data": {
      "text/plain": [
       "{1: {'a': 'b', 'c': 'd'}, 2: {'e': 'f'}}"
      ]
     },
     "execution_count": 20,
     "metadata": {},
     "output_type": "execute_result"
    }
   ],
   "source": [
    "x"
   ]
  },
  {
   "cell_type": "code",
   "execution_count": 34,
   "metadata": {
    "collapsed": false
   },
   "outputs": [],
   "source": [
    "a={'x':1,'y':8,'z':2}\n",
    "b={'x':5,'y':10,'z':7}\n",
    "c={'x':6,'y':1,'z':10}\n",
    "d={'x':9,'y':9,'z':10}\n",
    "e={'x':6,'y':6,'z':2}\n",
    "f={'x':8,'y':3,'z':4}\n",
    "g={'x':2,'y':5,'z':5}\n",
    "h={'x':7,'y':4,'z':8}\n",
    "i={'x':4,'y':10,'z':6}\n",
    "j={'x':3,'y':7,'z':9}"
   ]
  },
  {
   "cell_type": "code",
   "execution_count": 35,
   "metadata": {
    "collapsed": true
   },
   "outputs": [],
   "source": [
    "x=[]\n",
    "y=[]\n",
    "z=[]"
   ]
  },
  {
   "cell_type": "code",
   "execution_count": 36,
   "metadata": {
    "collapsed": true
   },
   "outputs": [],
   "source": [
    "w=[a,b,c,d,e,f,g,h,i,j]"
   ]
  },
  {
   "cell_type": "code",
   "execution_count": 49,
   "metadata": {
    "collapsed": false
   },
   "outputs": [],
   "source": [
    "S={}\n",
    "for l in w:\n",
    "    n=[]\n",
    "    m=['x','y','z']\n",
    "    for k in m:\n",
    "        n.append(l[k])\n",
    "    o=max(n)\n",
    "    for p in m:\n",
    "        if l[p]==o:\n",
    "            S[str(l)]=p"
   ]
  },
  {
   "cell_type": "code",
   "execution_count": 50,
   "metadata": {
    "collapsed": false
   },
   "outputs": [
    {
     "data": {
      "text/plain": [
       "{\"{'y': 1, 'x': 6, 'z': 10}\": 'z',\n",
       " \"{'y': 10, 'x': 4, 'z': 6}\": 'y',\n",
       " \"{'y': 10, 'x': 5, 'z': 7}\": 'y',\n",
       " \"{'y': 3, 'x': 8, 'z': 4}\": 'x',\n",
       " \"{'y': 4, 'x': 7, 'z': 8}\": 'z',\n",
       " \"{'y': 5, 'x': 2, 'z': 5}\": 'z',\n",
       " \"{'y': 6, 'x': 6, 'z': 2}\": 'y',\n",
       " \"{'y': 7, 'x': 3, 'z': 9}\": 'z',\n",
       " \"{'y': 8, 'x': 1, 'z': 2}\": 'y',\n",
       " \"{'y': 9, 'x': 9, 'z': 10}\": 'z'}"
      ]
     },
     "execution_count": 50,
     "metadata": {},
     "output_type": "execute_result"
    }
   ],
   "source": [
    "S"
   ]
  },
  {
   "cell_type": "code",
   "execution_count": 1,
   "metadata": {
    "collapsed": true
   },
   "outputs": [],
   "source": [
    "#データ構造は以下のとおり\n",
    "#ｍ：numberof males\n",
    "#n:number of females\n",
    "#maless:[0,1///m-1]\n",
    "#females:[0,1,///n-1]\n",
    "#m_pref:二次元配列m*(n+1)\n",
    "#f_pref:二次元配列n*(m+1)\n",
    "#m_pref[i]=[0,1,2///n(unmatch)]\n",
    "#f_prefも同様の順列で表記\n",
    "#出力は、1次元のm_matched:長さがmのmatch相手を並べた順列\n",
    "#一回誰かに取られたら-1で置き換える。"
   ]
  },
  {
   "cell_type": "code",
   "execution_count": 3,
   "metadata": {
    "collapsed": true
   },
   "outputs": [],
   "source": [
    "import numpy as np\n",
    "m=np.arange(5)\n",
    "n=np.arange(8)"
   ]
  },
  {
   "cell_type": "code",
   "execution_count": 4,
   "metadata": {
    "collapsed": false
   },
   "outputs": [
    {
     "data": {
      "text/plain": [
       "array([0, 1, 2, 3, 4])"
      ]
     },
     "execution_count": 4,
     "metadata": {},
     "output_type": "execute_result"
    }
   ],
   "source": [
    "m"
   ]
  },
  {
   "cell_type": "code",
   "execution_count": 5,
   "metadata": {
    "collapsed": false
   },
   "outputs": [
    {
     "data": {
      "text/plain": [
       "array([0, 1, 2, 3, 4, 5, 6, 7])"
      ]
     },
     "execution_count": 5,
     "metadata": {},
     "output_type": "execute_result"
    }
   ],
   "source": [
    "n"
   ]
  },
  {
   "cell_type": "code",
   "execution_count": 6,
   "metadata": {
    "collapsed": false
   },
   "outputs": [],
   "source": [
    "a=np.random.permutation(9)\n",
    "b=np.random.permutation(9)\n",
    "c=np.random.permutation(9)\n",
    "d=np.random.permutation(9)\n",
    "e=np.random.permutation(9)"
   ]
  },
  {
   "cell_type": "code",
   "execution_count": 7,
   "metadata": {
    "collapsed": false
   },
   "outputs": [],
   "source": [
    "m_pref=np.vstack((a,b,c,d,e))"
   ]
  },
  {
   "cell_type": "code",
   "execution_count": 8,
   "metadata": {
    "collapsed": true
   },
   "outputs": [],
   "source": [
    "f=np.random.permutation(6)\n",
    "g=np.random.permutation(6)\n",
    "h=np.random.permutation(6)\n",
    "i=np.random.permutation(6)\n",
    "j=np.random.permutation(6)\n",
    "k=np.random.permutation(6)\n",
    "l=np.random.permutation(6)\n",
    "o=np.random.permutation(6)"
   ]
  },
  {
   "cell_type": "code",
   "execution_count": 9,
   "metadata": {
    "collapsed": true
   },
   "outputs": [],
   "source": [
    "n_pref=np.vstack((f,g,h,i,j,k,l,o))"
   ]
  },
  {
   "cell_type": "code",
   "execution_count": 8,
   "metadata": {
    "collapsed": false
   },
   "outputs": [
    {
     "data": {
      "text/plain": [
       "array([[3, 5, 0, 1, 2, 4],\n",
       "       [3, 2, 4, 1, 5, 0],\n",
       "       [2, 3, 0, 4, 5, 1],\n",
       "       [2, 4, 0, 3, 1, 5],\n",
       "       [3, 1, 5, 4, 2, 0],\n",
       "       [1, 3, 4, 0, 5, 2],\n",
       "       [1, 5, 2, 3, 0, 4],\n",
       "       [1, 2, 3, 5, 0, 4]])"
      ]
     },
     "execution_count": 8,
     "metadata": {},
     "output_type": "execute_result"
    }
   ],
   "source": [
    "n_pref"
   ]
  },
  {
   "cell_type": "code",
   "execution_count": 9,
   "metadata": {
    "collapsed": false
   },
   "outputs": [
    {
     "data": {
      "text/plain": [
       "array([[1, 0, 5, 8, 3, 4, 7, 2, 6],\n",
       "       [6, 2, 8, 0, 1, 3, 5, 4, 7],\n",
       "       [6, 5, 7, 2, 0, 3, 8, 4, 1],\n",
       "       [4, 7, 5, 6, 8, 1, 3, 0, 2],\n",
       "       [8, 3, 4, 0, 7, 6, 2, 1, 5]])"
      ]
     },
     "execution_count": 9,
     "metadata": {},
     "output_type": "execute_result"
    }
   ],
   "source": [
    "m_pref"
   ]
  },
  {
   "cell_type": "code",
   "execution_count": 14,
   "metadata": {
    "collapsed": false
   },
   "outputs": [
    {
     "name": "stdout",
     "output_type": "stream",
     "text": [
      "[0, 2, 5, 7, 3]\n"
     ]
    }
   ],
   "source": [
    "#データ形式調整済み。\n",
    "#女性の選好：n_pref\n",
    "#男性の選好：m_pref\n",
    "#男性5人女性8人のマッチング\n",
    "#unmatchは8で表記\n",
    "S=[]\n",
    "n=1\n",
    "free=range(5)\n",
    "while free:\n",
    "    m=free.pop()\n",
    "    f=m_pref[m,:][n]\n",
    "    if f not in S:\n",
    "        S.append(f)\n",
    "    elif f==8:\n",
    "        S.append(f)\n",
    "    else:\n",
    "        l=S.index(f)\n",
    "        for j in range(6):\n",
    "            if n_pref[f,:][j]==m:\n",
    "                d=j\n",
    "            else: continue\n",
    "        for k in range(6):\n",
    "            if n_pref[f,:][k]==l:\n",
    "                e=k\n",
    "            else: continue\n",
    "        if e<d:\n",
    "            free.append(m)\n",
    "            n+=1\n",
    "        else:\n",
    "            S.append(m)\n",
    "            S.pop(l)\n",
    "            S.insert(l,-1)\n",
    "            free.append(l)\n",
    "            n+=1\n",
    "if len(free)==0:\n",
    "    S.reverse()\n",
    "    print S"
   ]
  },
  {
   "cell_type": "code",
   "execution_count": 12,
   "metadata": {
    "collapsed": false
   },
   "outputs": [
    {
     "ename": "IndentationError",
     "evalue": "expected an indented block (<ipython-input-12-40b5b0e58257>, line 29)",
     "output_type": "error",
     "traceback": [
      "\u001b[1;36m  File \u001b[1;32m\"<ipython-input-12-40b5b0e58257>\"\u001b[1;36m, line \u001b[1;32m29\u001b[0m\n\u001b[1;33m    if e<d:\u001b[0m\n\u001b[1;37m    ^\u001b[0m\n\u001b[1;31mIndentationError\u001b[0m\u001b[1;31m:\u001b[0m expected an indented block\n"
     ]
    }
   ],
   "source": [
    "# 修正案\n",
    "#5があったらもう5を入れちゃう\n",
    "S=[]\n",
    "n=1\n",
    "free=range(5)\n",
    "while free:\n",
    "    m=free.pop()\n",
    "    f=m_pref[m,:][n]\n",
    "    if f not in S:\n",
    "        S.append(f)\n",
    "    elif f==8:\n",
    "        S.append(f)\n",
    "    else:\n",
    "        if -1 in S:\n",
    "            l=-1\n",
    "        else:\n",
    "            l=S.index(f)\n",
    "        for j in range(6):\n",
    "            if n_pref[f,:][j]==m:\n",
    "                d=j\n",
    "            else: continue\n",
    "        for k in range(6):\n",
    "            if n_pref[f,:][k]==l:\n",
    "                e=k\n",
    "            else: continue\n",
    "        for p in range(6):\n",
    "            if n_pref[f,:][p]==5:\n",
    "                \n",
    "        if e<d:\n",
    "            free.append(m)\n",
    "            n+=1\n",
    "        else:\n",
    "            S.append(m)\n",
    "            S.pop(l)\n",
    "            S.insert(l,-1)\n",
    "            free.append(l)\n",
    "            n+=1\n",
    "if len(free)==0:\n",
    "    S.reverse() # 修正1\n",
    "    print S  #修正2"
   ]
  },
  {
   "cell_type": "code",
   "execution_count": 10,
   "metadata": {
    "collapsed": false
   },
   "outputs": [
    {
     "data": {
      "text/plain": [
       "array([[2, 4, 6, 0, 3, 8, 1, 5, 7],\n",
       "       [6, 0, 5, 7, 1, 2, 4, 8, 3],\n",
       "       [6, 1, 2, 0, 3, 4, 5, 8, 7],\n",
       "       [7, 1, 6, 0, 2, 5, 3, 4, 8],\n",
       "       [2, 6, 3, 4, 0, 7, 1, 8, 5]])"
      ]
     },
     "execution_count": 10,
     "metadata": {},
     "output_type": "execute_result"
    }
   ],
   "source": [
    "m_pref"
   ]
  },
  {
   "cell_type": "code",
   "execution_count": 11,
   "metadata": {
    "collapsed": false
   },
   "outputs": [
    {
     "data": {
      "text/plain": [
       "array([[2, 4, 1, 0, 3, 5],\n",
       "       [0, 4, 1, 2, 3, 5],\n",
       "       [2, 0, 3, 4, 1, 5],\n",
       "       [5, 0, 2, 4, 1, 3],\n",
       "       [1, 5, 3, 4, 2, 0],\n",
       "       [4, 1, 3, 5, 0, 2],\n",
       "       [2, 5, 0, 1, 4, 3],\n",
       "       [1, 0, 2, 5, 3, 4]])"
      ]
     },
     "execution_count": 11,
     "metadata": {},
     "output_type": "execute_result"
    }
   ],
   "source": [
    "n_pref"
   ]
  },
  {
   "cell_type": "code",
   "execution_count": 51,
   "metadata": {
    "collapsed": true
   },
   "outputs": [],
   "source": [
    "#修正版\n",
    "S=np.tile([-1],5)\n",
    "free=range(5)"
   ]
  },
  {
   "cell_type": "code",
   "execution_count": 52,
   "metadata": {
    "collapsed": false
   },
   "outputs": [
    {
     "data": {
      "text/plain": [
       "array([-1, -1, -1, -1, -1])"
      ]
     },
     "execution_count": 52,
     "metadata": {},
     "output_type": "execute_result"
    }
   ],
   "source": [
    "S\n"
   ]
  },
  {
   "cell_type": "code",
   "execution_count": 53,
   "metadata": {
    "collapsed": false
   },
   "outputs": [
    {
     "data": {
      "text/plain": [
       "[0, 1, 2, 3, 4]"
      ]
     },
     "execution_count": 53,
     "metadata": {},
     "output_type": "execute_result"
    }
   ],
   "source": [
    "free"
   ]
  },
  {
   "cell_type": "code",
   "execution_count": 13,
   "metadata": {
    "collapsed": false
   },
   "outputs": [
    {
     "ename": "NameError",
     "evalue": "name 'free' is not defined",
     "output_type": "error",
     "traceback": [
      "\u001b[1;31m---------------------------------------------------------------------------\u001b[0m",
      "\u001b[1;31mNameError\u001b[0m                                 Traceback (most recent call last)",
      "\u001b[1;32m<ipython-input-13-f04c6c3b11fc>\u001b[0m in \u001b[0;36m<module>\u001b[1;34m()\u001b[0m\n\u001b[0;32m      3\u001b[0m \u001b[1;31m#多分あってるはずです。関数化は明日やります。\u001b[0m\u001b[1;33m\u001b[0m\u001b[1;33m\u001b[0m\u001b[0m\n\u001b[0;32m      4\u001b[0m \u001b[0mn\u001b[0m\u001b[1;33m=\u001b[0m\u001b[1;36m0\u001b[0m\u001b[1;33m\u001b[0m\u001b[0m\n\u001b[1;32m----> 5\u001b[1;33m \u001b[1;32mwhile\u001b[0m \u001b[0mfree\u001b[0m\u001b[1;33m:\u001b[0m\u001b[1;33m\u001b[0m\u001b[0m\n\u001b[0m\u001b[0;32m      6\u001b[0m     \u001b[0mA\u001b[0m\u001b[1;33m=\u001b[0m\u001b[0mfree\u001b[0m\u001b[1;33m.\u001b[0m\u001b[0mpop\u001b[0m\u001b[1;33m(\u001b[0m\u001b[1;33m)\u001b[0m\u001b[1;33m\u001b[0m\u001b[0m\n\u001b[0;32m      7\u001b[0m     \u001b[0mF\u001b[0m\u001b[1;33m=\u001b[0m\u001b[0mm_pref\u001b[0m\u001b[1;33m[\u001b[0m\u001b[0mA\u001b[0m\u001b[1;33m,\u001b[0m\u001b[1;33m:\u001b[0m\u001b[1;33m]\u001b[0m\u001b[1;33m[\u001b[0m\u001b[0mn\u001b[0m\u001b[1;33m]\u001b[0m\u001b[1;33m\u001b[0m\u001b[0m\n",
      "\u001b[1;31mNameError\u001b[0m: name 'free' is not defined"
     ]
    }
   ],
   "source": [
    "#最新版\n",
    "#nのカウントをリセットする仕組みを加えた。\n",
    "#多分あってるはずです。関数化は明日やります。\n",
    "n=0\n",
    "while free:\n",
    "    A=free.pop() \n",
    "    F=m_pref[A,:][n]\n",
    "    if F not in S:\n",
    "        S[A]=F\n",
    "        n=0        #nをリセット\n",
    "    elif F==8:\n",
    "        S[A]=8\n",
    "    else:\n",
    "        for y in range(5):\n",
    "            if S[y]==F:\n",
    "                M=y #MはFがいる場所のindex\n",
    "        for z in range(6):\n",
    "            if n_pref[F,:][z]==M:\n",
    "                Z=z\n",
    "            if n_pref[F,:][z]==A:\n",
    "                W=z\n",
    "            if n_pref[F,:][z]==5:\n",
    "                V=z\n",
    "        if V<W and V<Z:\n",
    "            S[M]=-1\n",
    "            free.append(A)    \n",
    "            free.append(M)\n",
    "            n+=1\n",
    "        elif W<Z and W<V:\n",
    "            S[A]=F\n",
    "            S[M]=-1\n",
    "            free.append(M)\n",
    "            n+=1\n",
    "        elif Z<W and Z<V:\n",
    "            free.append(A)\n",
    "            n+=1\n",
    "    if len(free)==0:\n",
    "        print S              "
   ]
  },
  {
   "cell_type": "code",
   "execution_count": 1,
   "metadata": {
    "collapsed": true
   },
   "outputs": [],
   "source": [
    "import numpy as np\n",
    "g=np.array([[1,2,3],[4,5,6],[7,8,9],[10,11,12]])"
   ]
  },
  {
   "cell_type": "code",
   "execution_count": 3,
   "metadata": {
    "collapsed": false
   },
   "outputs": [
    {
     "data": {
      "text/plain": [
       "4"
      ]
     },
     "execution_count": 3,
     "metadata": {},
     "output_type": "execute_result"
    }
   ],
   "source": [
    "g.shape[0]"
   ]
  },
  {
   "cell_type": "code",
   "execution_count": 40,
   "metadata": {
    "collapsed": false
   },
   "outputs": [],
   "source": [
    "#そもそもアンマッチの場合を修正しました。\n",
    "#出力が男女の結果となるように修正しました。\n",
    "#Pがm_pref\n",
    "#Qがn_pref\n",
    "def da3(P,Q):\n",
    "    N=P.shape[0]\n",
    "    G=Q.shape[0]\n",
    "    S=np.tile([-1],N)\n",
    "    free=range(N)\n",
    "    n=0\n",
    "    while free:\n",
    "        A=free.pop() \n",
    "        F=P[A,:][n]\n",
    "        if F==G:\n",
    "            S[A]=G\n",
    "        else:\n",
    "            for J in range(N+1):   #そもそもマッチしない場合を追加\n",
    "                if Q[F,:][J]==A:\n",
    "                    D=J\n",
    "                if Q[F,:][J]==N:\n",
    "                    E=J\n",
    "            if E<D:\n",
    "                free.append(A)\n",
    "                n+=1\n",
    "            else:\n",
    "                if F not in S:\n",
    "                    S[A]=F\n",
    "                    n=0        #nをリセット\n",
    "                else:\n",
    "                    for y in range(N):\n",
    "                        if S[y]==F:\n",
    "                            M=y         #MはFがいる場所のindex\n",
    "                    for z in range(N+1):\n",
    "                        if Q[F,:][z]==M:\n",
    "                            Z=z\n",
    "                        if Q[F,:][z]==A:\n",
    "                            W=z\n",
    "                    if W<Z:\n",
    "                        S[A]=F\n",
    "                        S[M]=-1\n",
    "                        free.append(M)\n",
    "                        n+=1\n",
    "                    else:\n",
    "                        free.append(A)\n",
    "                        n+=1\n",
    "                if len(free)==0:   #女性の結果も表示するように修正\n",
    "                    s=list(S)\n",
    "                    L=np.tile([N],G)\n",
    "                    l=list(L)\n",
    "                    for u in s:\n",
    "                        if u==G: continue  #アンマッチの時はスルー\n",
    "                        else:\n",
    "                            v=s.index(u)\n",
    "                            l[u]=v\n",
    "                    return s,l"
   ]
  },
  {
   "cell_type": "code",
   "execution_count": null,
   "metadata": {
    "collapsed": true
   },
   "outputs": [],
   "source": []
  },
  {
   "cell_type": "code",
   "execution_count": 71,
   "metadata": {
    "collapsed": false
   },
   "outputs": [],
   "source": [
    "# 修正案\n",
    "#listとnumpy.ndarrayのどちらが入力されても問題なく作動するようにしました\n",
    "#\n",
    "#Pがm_pref\n",
    "#Qがn_pref\n",
    "def da3(P,Q):\n",
    "    import sys\n",
    "    \n",
    "    if isinstance(Q, list) != True and isinstance(Q,np.ndarray) != True:\n",
    "        print \"Input Error!!\"\n",
    "        sys.exit()\n",
    "        \n",
    "    if isinstance(P, list):\n",
    "        P = np.array(P)\n",
    "        Q = np.array(Q)\n",
    "    elif isinstance(P, np.ndarray):\n",
    "        print \"ndarray\"\n",
    "    else:\n",
    "        print \"Input Error!!\"\n",
    "        sys.exit()\n",
    "    N=P.shape[0]\n",
    "    G=Q.shape[0]\n",
    "    S=np.tile([-1],N)\n",
    "    free=range(N)\n",
    "    n=0\n",
    "    \n",
    "    while free:\n",
    "        # print S\n",
    "        \"\"\"\n",
    "        上のシャープを外すことで男性の婚約状況の一周ごとの推移を表示することができます\n",
    "        正しくない結果が返ってきている疑いのある時に様子を見るため使いましょう\n",
    "        \"\"\"\n",
    "        A=free.pop() \n",
    "        F=P[A,:][n]\n",
    "        if F==G:\n",
    "            S[A]=G\n",
    "        else:\n",
    "            for J in range(N+1):   #そもそもマッチしない場合を追加\n",
    "                if Q[F,:][J]==A:\n",
    "                    D=J\n",
    "                if Q[F,:][J]==N:\n",
    "                    E=J\n",
    "            if E<D:\n",
    "                free.append(A)\n",
    "                n+=1\n",
    "            else:\n",
    "                if F not in S:\n",
    "                    S[A]=F\n",
    "                    n=0        #nをリセット\n",
    "                else:\n",
    "                    for y in range(N):\n",
    "                        if S[y]==F:\n",
    "                            M=y         #MはFがいる場所のindex\n",
    "                    for z in range(N+1):\n",
    "                        if Q[F,:][z]==M:\n",
    "                            Z=z\n",
    "                        if Q[F,:][z]==A:\n",
    "                            W=z\n",
    "                    if W<Z:\n",
    "                        S[A]=F\n",
    "                        S[M]=-1\n",
    "                        free.append(M)\n",
    "                        n+=1\n",
    "                    else:\n",
    "                        free.append(A)\n",
    "                        n+=1\n",
    "                if len(free)==0:   #女性の結果も表示するように修正\n",
    "                    s=list(S)\n",
    "                    L=np.tile([N],G)\n",
    "                    l=list(L)\n",
    "                    for u in s:\n",
    "                        if u==G: continue  #アンマッチの時はスルー\n",
    "                        else:\n",
    "                            v=s.index(u)\n",
    "                            l[u]=v\n",
    "                    return s,l"
   ]
  },
  {
   "cell_type": "code",
   "execution_count": null,
   "metadata": {
    "collapsed": false
   },
   "outputs": [],
   "source": [
    "\"\"\"\n",
    "変更するべき点一覧\n",
    "1.differred_acceptance.pyを最新版のものにアップデートしましょう\n",
    "  test_matching.pyはdifferred_acceptance.pyが正しいかを判定するプログラムです\n",
    "2.入力形式はtest_matching.py内で書かれていたものと同様に二重のリスト、およびnumpyの2次元arrayのどちらにも対応しているとよいと思います\n",
    "  修正案で例を挙げておきました\n",
    "  listが入力された場合、入力後すぐにarrayに変換します\n",
    "  arrayなら何もしません\n",
    "  それ以外なら警告出して中止します\n",
    "\n",
    "3.アルゴリズムがどうにかしているために、選好のリストとして正しい形式のものを入れてもうまくいかない例があります\n",
    " （下の方に2人×2人での例がみつかったので挙げておきます）\n",
    "  この場合ではそもそもエラーは出ないものの、結果が返ってきません\n",
    "  何らかの原因でreturnまでたどり着いていない可能性あり\n",
    "4.現在のコードだとif文があまりに多くて（while文の中にifを三重で入れてるとことか）ちょっと読みにくいです\n",
    "  while文をずっと続けるために使うのではなく、ループの終了条件を明確にして\n",
    "  （たとえばwhile len(free)==0: とするのは一つの手です）、終了した後の作業を外に出すと見やすくなると思います\n",
    "\"\"\""
   ]
  },
  {
   "cell_type": "code",
   "execution_count": 72,
   "metadata": {
    "collapsed": false
   },
   "outputs": [],
   "source": [
    "# アルゴリズムがどうにかしているためにうまくいかない例\n",
    "pl = [[0,1,2],\n",
    "      [0,2,1]]\n",
    "\n",
    "pt = [[0,1,2],\n",
    "      [1,2,0]]\n",
    "da3(pl,pt)"
   ]
  },
  {
   "cell_type": "code",
   "execution_count": 69,
   "metadata": {
    "collapsed": false
   },
   "outputs": [
    {
     "name": "stdout",
     "output_type": "stream",
     "text": [
      "ndarray\n",
      "[-1 -1 -1 -1 -1]\n",
      "[-1 -1 -1 -1  2]\n",
      "[-1 -1 -1 -1  2]\n",
      "[-1 -1 -1  1  2]\n",
      "[-1 -1  6  1  2]\n",
      "[-1 -1  6  1  2]\n",
      "[-1  0  6  1  2]\n",
      "[ 2  0  6  1 -1]\n",
      "[ 2  0  6  1 -1]\n",
      "[ 2  0  6  1 -1]\n",
      "[ 2  0  6  1 -1]\n",
      "[ 2 -1  6  1  0]\n",
      "[ 2 -1  6  1  0]\n"
     ]
    },
    {
     "data": {
      "text/plain": [
       "([2, 4, 6, 1, 0], [4, 3, 0, 5, 1, 5, 2, 5])"
      ]
     },
     "execution_count": 69,
     "metadata": {},
     "output_type": "execute_result"
    }
   ],
   "source": [
    "da3(m_pref,n_pref)"
   ]
  },
  {
   "cell_type": "code",
   "execution_count": 47,
   "metadata": {
    "collapsed": false
   },
   "outputs": [
    {
     "data": {
      "text/plain": [
       "array([[1, 3, 2, 4, 5, 0],\n",
       "       [3, 1, 0, 4, 2, 5],\n",
       "       [3, 5, 2, 1, 4, 0],\n",
       "       [2, 3, 5, 4, 0, 1],\n",
       "       [2, 5, 0, 1, 3, 4],\n",
       "       [3, 2, 4, 0, 1, 5],\n",
       "       [3, 0, 5, 4, 1, 2],\n",
       "       [3, 5, 1, 2, 0, 4]])"
      ]
     },
     "execution_count": 47,
     "metadata": {},
     "output_type": "execute_result"
    }
   ],
   "source": [
    "n_pref"
   ]
  },
  {
   "cell_type": "code",
   "execution_count": 1,
   "metadata": {
    "collapsed": true
   },
   "outputs": [],
   "source": [
    "import numpy as np\n",
    "a=np.arange(5)"
   ]
  },
  {
   "cell_type": "code",
   "execution_count": 15,
   "metadata": {
    "collapsed": false
   },
   "outputs": [
    {
     "data": {
      "text/plain": [
       "array([4, 6, 7, 0, 8, 2, 1, 5, 3])"
      ]
     },
     "execution_count": 15,
     "metadata": {},
     "output_type": "execute_result"
    }
   ],
   "source": [
    "a"
   ]
  },
  {
   "cell_type": "code",
   "execution_count": 18,
   "metadata": {
    "collapsed": false
   },
   "outputs": [],
   "source": [
    "A=list(a)"
   ]
  },
  {
   "cell_type": "code",
   "execution_count": 19,
   "metadata": {
    "collapsed": false
   },
   "outputs": [
    {
     "data": {
      "text/plain": [
       "3"
      ]
     },
     "execution_count": 19,
     "metadata": {},
     "output_type": "execute_result"
    }
   ],
   "source": [
    "A.index(0)"
   ]
  },
  {
   "cell_type": "code",
   "execution_count": 34,
   "metadata": {
    "collapsed": false
   },
   "outputs": [
    {
     "data": {
      "text/plain": [
       "9"
      ]
     },
     "execution_count": 34,
     "metadata": {},
     "output_type": "execute_result"
    }
   ],
   "source": [
    "A[0]+m_pref.shape[0]"
   ]
  },
  {
   "cell_type": "code",
   "execution_count": null,
   "metadata": {
    "collapsed": true
   },
   "outputs": [],
   "source": []
  }
 ],
 "metadata": {
  "kernelspec": {
   "display_name": "Python 2",
   "language": "python",
   "name": "python2"
  },
  "language_info": {
   "codemirror_mode": {
    "name": "ipython",
    "version": 2
   },
   "file_extension": ".py",
   "mimetype": "text/x-python",
   "name": "python",
   "nbconvert_exporter": "python",
   "pygments_lexer": "ipython2",
   "version": "2.7.7"
  }
 },
 "nbformat": 4,
 "nbformat_minor": 0
}
