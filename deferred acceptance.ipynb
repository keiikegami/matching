{
 "cells": [
  {
   "cell_type": "code",
   "execution_count": 1,
   "metadata": {
    "collapsed": false
   },
   "outputs": [
    {
     "name": "stdout",
     "output_type": "stream",
     "text": [
      "{'e': 'b', 'd': 'a', 'f': 'c'}\n"
     ]
    }
   ],
   "source": [
    "#なるほどね\n",
    "men=['a','b','c']\n",
    "women=['d','e','f']\n",
    "pref={'a':['d','e','f'],'b':['e','d','f'],'c':['d','e','f'],'d':['b','a','c'],'e':['a','b','c'],'f':['a','b','c']}\n",
    "for n in pref:\n",
    "        pref[n].reverse()\n",
    "rank={'d':{'a':2,'b':1,'c':3},'e':{'a':1,'b':2,'c':3},'f':{'a':1,'b':2,'c':3}}\n",
    "freemen=list(men)\n",
    "numpart=len(men)\n",
    "S={}\n",
    "while freemen:\n",
    "    m=freemen.pop()\n",
    "    if len(pref[m])==0:\n",
    "        continue\n",
    "    w=pref[m].pop()\n",
    "    if w not in S:\n",
    "        S[w]=m\n",
    "    else:\n",
    "        mprime=S[w]\n",
    "        if rank[w][m]<rank[w][mprime]:\n",
    "            S[w]=m\n",
    "            freemen.append(mprime)\n",
    "        else:\n",
    "            freemen.append(m)\n",
    "print S"
   ]
  },
  {
   "cell_type": "code",
   "execution_count": 3,
   "metadata": {
    "collapsed": true
   },
   "outputs": [],
   "source": [
    "list=['a','b']"
   ]
  },
  {
   "cell_type": "code",
   "execution_count": null,
   "metadata": {
    "collapsed": true
   },
   "outputs": [],
   "source": []
  },
  {
   "cell_type": "code",
   "execution_count": 8,
   "metadata": {
    "collapsed": false
   },
   "outputs": [
    {
     "data": {
      "text/plain": [
       "'c'"
      ]
     },
     "execution_count": 8,
     "metadata": {},
     "output_type": "execute_result"
    }
   ],
   "source": [
    "men.pop()"
   ]
  },
  {
   "cell_type": "code",
   "execution_count": 1,
   "metadata": {
    "collapsed": true
   },
   "outputs": [],
   "source": [
    "#deferred acceptance function\n",
    "#a　男リスト\n",
    "#c　preference list\n",
    "#d　女の男ランク\n",
    "def da(a,c,d):\n",
    "    for n in c:\n",
    "        c[n].reverse()\n",
    "    freemen=list(a)\n",
    "    numpart=len(a)\n",
    "    S={}\n",
    "    while freemen:\n",
    "        m=freemen.pop()\n",
    "        if len(c[m])==0:\n",
    "            continue\n",
    "        w=c[m].pop()\n",
    "        if w not in S:\n",
    "            S[w]=m\n",
    "        else:\n",
    "            mprime=S[w]\n",
    "            if d[w][m]<d[w][mprime]:\n",
    "                S[w]=m\n",
    "                freemen.append(mprime)\n",
    "            else:\n",
    "                freemen.append(m)\n",
    "    print S"
   ]
  },
  {
   "cell_type": "code",
   "execution_count": 2,
   "metadata": {
    "collapsed": false
   },
   "outputs": [
    {
     "name": "stdout",
     "output_type": "stream",
     "text": [
      "{'e': 'b', 'd': 'a', 'f': 'c'}\n"
     ]
    }
   ],
   "source": [
    "a=['a','b','c']\n",
    "c={'a':['d','e','f'],'b':['e','d','f'],'c':['d','e','f'],'d':['b','a','c'],'e':['a','b','c'],'f':['a','b','c']}\n",
    "d={'d':{'a':2,'b':1,'c':3},'e':{'a':1,'b':2,'c':3},'f':{'a':1,'b':2,'c':3}}\n",
    "da(a,c,d)"
   ]
  },
  {
   "cell_type": "code",
   "execution_count": null,
   "metadata": {
    "collapsed": false
   },
   "outputs": [],
   "source": [
    "range(1,3)"
   ]
  },
  {
   "cell_type": "code",
   "execution_count": 1,
   "metadata": {
    "collapsed": true
   },
   "outputs": [],
   "source": [
    "#引数をpref（順序付き）と人数\n",
    "# a={'a':{1:'d',2:'e',3:'f'},'b':{1:'e',2:'d',3:'f'},'c':{1:'d',2:'e',3:'f'}}\n",
    "#b={'d':{1:'b',2:'a',3:'c'},'e':{1:'a',2:'b',3:'c'},'f':{1:'a',2:'b',3:'c'}}\n",
    "#c=3\n",
    "def da2(a,b,c):\n",
    "    S={}\n",
    "    free=[]\n",
    "    for i in a:\n",
    "        free.append(i)\n",
    "    n=1\n",
    "    while free:\n",
    "        m=free.pop()\n",
    "        f=a[m][n]\n",
    "        if f not in S:\n",
    "            S[f]=m\n",
    "        else:\n",
    "            l=S[f]\n",
    "            for j in range(1,c+1):\n",
    "                if b[f][j]==m:\n",
    "                    d=j\n",
    "                else: continue\n",
    "            for k in range(1,c+1):\n",
    "                if b[f][k]==l:\n",
    "                    e=k\n",
    "                else: continue\n",
    "            if e<d:\n",
    "                free.append(m)\n",
    "                n+=1\n",
    "            else:\n",
    "                S[f]=m\n",
    "                free.append(l)\n",
    "                n+=1\n",
    "        if len(free)==0:\n",
    "            return S"
   ]
  },
  {
   "cell_type": "code",
   "execution_count": 55,
   "metadata": {
    "collapsed": true
   },
   "outputs": [],
   "source": [
    "a={'a':{1:'d',2:'e',3:'f'},'b':{1:'e',2:'d',3:'f'},'c':{1:'d',2:'e',3:'f'}}\n",
    "b={'d':{1:'b',2:'a',3:'c'},'e':{1:'a',2:'b',3:'c'},'f':{1:'a',2:'b',3:'c'}}"
   ]
  },
  {
   "cell_type": "code",
   "execution_count": 3,
   "metadata": {
    "collapsed": false
   },
   "outputs": [
    {
     "ename": "NameError",
     "evalue": "name 'c' is not defined",
     "output_type": "error",
     "traceback": [
      "\u001b[0;31m---------------------------------------------------------------------------\u001b[0m",
      "\u001b[0;31mNameError\u001b[0m                                 Traceback (most recent call last)",
      "\u001b[0;32m<ipython-input-3-bba94a40e676>\u001b[0m in \u001b[0;36m<module>\u001b[0;34m()\u001b[0m\n\u001b[0;32m----> 1\u001b[0;31m \u001b[0mda2\u001b[0m\u001b[0;34m(\u001b[0m\u001b[0ma\u001b[0m\u001b[0;34m,\u001b[0m\u001b[0mb\u001b[0m\u001b[0;34m,\u001b[0m\u001b[0mc\u001b[0m\u001b[0;34m)\u001b[0m\u001b[0;34m\u001b[0m\u001b[0m\n\u001b[0m",
      "\u001b[0;31mNameError\u001b[0m: name 'c' is not defined"
     ]
    }
   ],
   "source": [
    "da2(a,b,c)"
   ]
  },
  {
   "cell_type": "code",
   "execution_count": 56,
   "metadata": {
    "collapsed": false
   },
   "outputs": [],
   "source": [
    "#引数をpref（順序付き）と人数\n",
    "#男プロポーズと女プロポーズの結果を同時に表示\n",
    "# a={'a':{1:'d',2:'e',3:'f'},'b':{1:'e',2:'d',3:'f'},'c':{1:'d',2:'e',3:'f'}}\n",
    "#b={'d':{1:'b',2:'a',3:'c'},'e':{1:'a',2:'b',3:'c'},'f':{1:'a',2:'b',3:'c'}}\n",
    "#c=3\n",
    "def da2(a,b):\n",
    "    S={}\n",
    "    free=[]\n",
    "    T={}\n",
    "    wfree=[]\n",
    "    for i in a:\n",
    "        free.append(i)\n",
    "    for i in b:\n",
    "        wfree.append(i)\n",
    "    c=len(free)\n",
    "    n=1\n",
    "    while free:\n",
    "        m=free.pop()\n",
    "        f=a[m][n]\n",
    "        if f not in S:\n",
    "            S[f]=m\n",
    "        else:\n",
    "            l=S[f]\n",
    "            for j in range(1,c+1):\n",
    "                if b[f][j]==m:\n",
    "                    d=j\n",
    "                else: continue\n",
    "            for k in range(1,c+1):\n",
    "                if b[f][k]==l:\n",
    "                    e=k\n",
    "                else: continue\n",
    "            if e<d:\n",
    "                free.append(m)\n",
    "                n+=1\n",
    "            else:\n",
    "                S[f]=m\n",
    "                free.append(l)\n",
    "                n+=1\n",
    "        if len(free)==0: continue\n",
    "    g=1\n",
    "    while wfree:\n",
    "        m=wfree.pop()\n",
    "        f=b[m][g]\n",
    "        if f not in T:\n",
    "            T[f]=m\n",
    "        else:\n",
    "            l=T[f]\n",
    "            for j in range(1,c+1):\n",
    "                if a[f][j]==m:\n",
    "                    d=j\n",
    "                else: continue\n",
    "            for k in range(1,c+1):\n",
    "                if a[f][k]==l:\n",
    "                    e=k\n",
    "                else: continue\n",
    "            if e<d:\n",
    "                wfree.append(m)\n",
    "                g+=1\n",
    "            else:\n",
    "                T[f]=m\n",
    "                wfree.append(l)\n",
    "                g+=1\n",
    "        if len(wfree)==0:\n",
    "            return S,T"
   ]
  },
  {
   "cell_type": "code",
   "execution_count": 57,
   "metadata": {
    "collapsed": false
   },
   "outputs": [
    {
     "data": {
      "text/plain": [
       "({'d': 'a', 'e': 'b', 'f': 'c'}, {'a': 'e', 'b': 'd', 'c': 'f'})"
      ]
     },
     "execution_count": 57,
     "metadata": {},
     "output_type": "execute_result"
    }
   ],
   "source": [
    "da2(a,b)"
   ]
  },
  {
   "cell_type": "code",
   "execution_count": 17,
   "metadata": {
    "collapsed": false
   },
   "outputs": [],
   "source": [
    "x={1:{'a':'b','c':'d'}}\n",
    "y={2:{'e':'f'}}"
   ]
  },
  {
   "cell_type": "code",
   "execution_count": 19,
   "metadata": {
    "collapsed": false
   },
   "outputs": [],
   "source": [
    "x.update(y)"
   ]
  },
  {
   "cell_type": "code",
   "execution_count": 20,
   "metadata": {
    "collapsed": false
   },
   "outputs": [
    {
     "data": {
      "text/plain": [
       "{1: {'a': 'b', 'c': 'd'}, 2: {'e': 'f'}}"
      ]
     },
     "execution_count": 20,
     "metadata": {},
     "output_type": "execute_result"
    }
   ],
   "source": [
    "x"
   ]
  },
  {
   "cell_type": "code",
   "execution_count": 34,
   "metadata": {
    "collapsed": false
   },
   "outputs": [],
   "source": [
    "a={'x':1,'y':8,'z':2}\n",
    "b={'x':5,'y':10,'z':7}\n",
    "c={'x':6,'y':1,'z':10}\n",
    "d={'x':9,'y':9,'z':10}\n",
    "e={'x':6,'y':6,'z':2}\n",
    "f={'x':8,'y':3,'z':4}\n",
    "g={'x':2,'y':5,'z':5}\n",
    "h={'x':7,'y':4,'z':8}\n",
    "i={'x':4,'y':10,'z':6}\n",
    "j={'x':3,'y':7,'z':9}"
   ]
  },
  {
   "cell_type": "code",
   "execution_count": 35,
   "metadata": {
    "collapsed": true
   },
   "outputs": [],
   "source": [
    "x=[]\n",
    "y=[]\n",
    "z=[]"
   ]
  },
  {
   "cell_type": "code",
   "execution_count": 36,
   "metadata": {
    "collapsed": true
   },
   "outputs": [],
   "source": [
    "w=[a,b,c,d,e,f,g,h,i,j]"
   ]
  },
  {
   "cell_type": "code",
   "execution_count": 49,
   "metadata": {
    "collapsed": false
   },
   "outputs": [],
   "source": [
    "S={}\n",
    "for l in w:\n",
    "    n=[]\n",
    "    m=['x','y','z']\n",
    "    for k in m:\n",
    "        n.append(l[k])\n",
    "    o=max(n)\n",
    "    for p in m:\n",
    "        if l[p]==o:\n",
    "            S[str(l)]=p"
   ]
  },
  {
   "cell_type": "code",
   "execution_count": 50,
   "metadata": {
    "collapsed": false
   },
   "outputs": [
    {
     "data": {
      "text/plain": [
       "{\"{'y': 1, 'x': 6, 'z': 10}\": 'z',\n",
       " \"{'y': 10, 'x': 4, 'z': 6}\": 'y',\n",
       " \"{'y': 10, 'x': 5, 'z': 7}\": 'y',\n",
       " \"{'y': 3, 'x': 8, 'z': 4}\": 'x',\n",
       " \"{'y': 4, 'x': 7, 'z': 8}\": 'z',\n",
       " \"{'y': 5, 'x': 2, 'z': 5}\": 'z',\n",
       " \"{'y': 6, 'x': 6, 'z': 2}\": 'y',\n",
       " \"{'y': 7, 'x': 3, 'z': 9}\": 'z',\n",
       " \"{'y': 8, 'x': 1, 'z': 2}\": 'y',\n",
       " \"{'y': 9, 'x': 9, 'z': 10}\": 'z'}"
      ]
     },
     "execution_count": 50,
     "metadata": {},
     "output_type": "execute_result"
    }
   ],
   "source": [
    "S"
   ]
  },
  {
   "cell_type": "code",
   "execution_count": 1,
   "metadata": {
    "collapsed": true
   },
   "outputs": [],
   "source": [
    "#データ構造は以下のとおり\n",
    "#ｍ：numberof males\n",
    "#n:number of females\n",
    "#maless:[0,1///m-1]\n",
    "#females:[0,1,///n-1]\n",
    "#m_pref:二次元配列m*(n+1)\n",
    "#f_pref:二次元配列n*(m+1)\n",
    "#m_pref[i]=[0,1,2///n(unmatch)]\n",
    "#f_prefも同様の順列で表記\n",
    "#出力は、1次元のm_matched:長さがmのmatch相手を並べた順列\n",
    "#一回誰かに取られたら-1で置き換える。"
   ]
  },
  {
   "cell_type": "code",
   "execution_count": 72,
   "metadata": {
    "collapsed": true
   },
   "outputs": [],
   "source": [
    "import numpy as np\n",
    "m=np.arange(5)\n",
    "n=np.arange(8)"
   ]
  },
  {
   "cell_type": "code",
   "execution_count": 36,
   "metadata": {
    "collapsed": false
   },
   "outputs": [
    {
     "data": {
      "text/plain": [
       "array([0, 1, 2, 3, 4])"
      ]
     },
     "execution_count": 36,
     "metadata": {},
     "output_type": "execute_result"
    }
   ],
   "source": [
    "m"
   ]
  },
  {
   "cell_type": "code",
   "execution_count": 42,
   "metadata": {
    "collapsed": false
   },
   "outputs": [
    {
     "data": {
      "text/plain": [
       "array([0, 1, 2, 3, 4, 5, 6, 7])"
      ]
     },
     "execution_count": 42,
     "metadata": {},
     "output_type": "execute_result"
    }
   ],
   "source": [
    "n"
   ]
  },
  {
   "cell_type": "code",
   "execution_count": 73,
   "metadata": {
    "collapsed": false
   },
   "outputs": [],
   "source": [
    "a=np.random.permutation(9)\n",
    "b=np.random.permutation(9)\n",
    "c=np.random.permutation(9)\n",
    "d=np.random.permutation(9)\n",
    "e=np.random.permutation(9)"
   ]
  },
  {
   "cell_type": "code",
   "execution_count": 74,
   "metadata": {
    "collapsed": false
   },
   "outputs": [],
   "source": [
    "m_pref=np.vstack((a,b,c,d,e))"
   ]
  },
  {
   "cell_type": "code",
   "execution_count": 75,
   "metadata": {
    "collapsed": true
   },
   "outputs": [],
   "source": [
    "f=np.random.permutation(6)\n",
    "g=np.random.permutation(6)\n",
    "h=np.random.permutation(6)\n",
    "i=np.random.permutation(6)\n",
    "j=np.random.permutation(6)\n",
    "k=np.random.permutation(6)\n",
    "l=np.random.permutation(6)\n",
    "o=np.random.permutation(6)"
   ]
  },
  {
   "cell_type": "code",
   "execution_count": 76,
   "metadata": {
    "collapsed": true
   },
   "outputs": [],
   "source": [
    "n_pref=np.vstack((f,g,h,i,j,k,l,o))"
   ]
  },
  {
   "cell_type": "code",
   "execution_count": 77,
   "metadata": {
    "collapsed": false
   },
   "outputs": [
    {
     "data": {
      "text/plain": [
       "array([[1, 0, 3, 5, 2, 4],\n",
       "       [3, 2, 5, 0, 4, 1],\n",
       "       [0, 5, 1, 3, 4, 2],\n",
       "       [1, 4, 3, 2, 0, 5],\n",
       "       [2, 0, 1, 4, 3, 5],\n",
       "       [2, 5, 4, 1, 0, 3],\n",
       "       [1, 5, 3, 0, 2, 4],\n",
       "       [4, 5, 0, 3, 2, 1]])"
      ]
     },
     "execution_count": 77,
     "metadata": {},
     "output_type": "execute_result"
    }
   ],
   "source": [
    "n_pref"
   ]
  },
  {
   "cell_type": "code",
   "execution_count": 78,
   "metadata": {
    "collapsed": false
   },
   "outputs": [
    {
     "data": {
      "text/plain": [
       "array([[2, 3, 1, 7, 5, 8, 6, 0, 4],\n",
       "       [5, 0, 3, 7, 8, 4, 6, 2, 1],\n",
       "       [0, 7, 1, 6, 8, 4, 5, 3, 2],\n",
       "       [4, 7, 5, 0, 3, 8, 6, 2, 1],\n",
       "       [1, 2, 0, 7, 4, 5, 6, 3, 8]])"
      ]
     },
     "execution_count": 78,
     "metadata": {},
     "output_type": "execute_result"
    }
   ],
   "source": [
    "m_pref"
   ]
  },
  {
   "cell_type": "code",
   "execution_count": 79,
   "metadata": {
    "collapsed": false
   },
   "outputs": [
    {
     "name": "stdout",
     "output_type": "stream",
     "text": [
      "None\n"
     ]
    }
   ],
   "source": [
    "#データ形式調整済み。\n",
    "#女性の選好：n_pref\n",
    "#男性の選好：m_pref\n",
    "#男性5人女性8人のマッチング\n",
    "#unmatchは8で表記\n",
    "S=[]\n",
    "n=1\n",
    "free=range(5)\n",
    "while free:\n",
    "    m=free.pop()\n",
    "    f=m_pref[m,:][n]\n",
    "    if f not in S:\n",
    "        S.append(f)\n",
    "    elif f==8:\n",
    "        S.append(f)\n",
    "    else:\n",
    "        l=S.index(f)\n",
    "        for j in range(6):\n",
    "            if n_pref[f,:][j]==m:\n",
    "                d=j\n",
    "            else: continue\n",
    "        for k in range(6):\n",
    "            if n_pref[f,:][k]==l:\n",
    "                e=k\n",
    "            else: continue\n",
    "        if e<d:\n",
    "            free.append(m)\n",
    "            n+=1\n",
    "        else:\n",
    "            S.append(m)\n",
    "            S.pop(l)\n",
    "            S.insert(l,-1)\n",
    "            free.append(l)\n",
    "            n+=1\n",
    "if len(free)==0:\n",
    "    print S.reverse()"
   ]
  },
  {
   "cell_type": "code",
   "execution_count": null,
   "metadata": {
    "collapsed": true
   },
   "outputs": [],
   "source": []
  }
 ],
 "metadata": {
  "kernelspec": {
   "display_name": "Python 2",
   "language": "python",
   "name": "python2"
  },
  "language_info": {
   "codemirror_mode": {
    "name": "ipython",
    "version": 2
   },
   "file_extension": ".py",
   "mimetype": "text/x-python",
   "name": "python",
   "nbconvert_exporter": "python",
   "pygments_lexer": "ipython2",
   "version": "2.7.9"
  }
 },
 "nbformat": 4,
 "nbformat_minor": 0
}
