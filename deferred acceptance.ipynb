{
 "cells": [
  {
   "cell_type": "code",
   "execution_count": 1,
   "metadata": {
    "collapsed": false
   },
   "outputs": [
    {
     "name": "stdout",
     "output_type": "stream",
     "text": [
      "{'e': 'b', 'd': 'a', 'f': 'c'}\n"
     ]
    }
   ],
   "source": [
    "#なるほどね\n",
    "men=['a','b','c']\n",
    "women=['d','e','f']\n",
    "pref={'a':['d','e','f'],'b':['e','d','f'],'c':['d','e','f'],'d':['b','a','c'],'e':['a','b','c'],'f':['a','b','c']}\n",
    "for n in pref:\n",
    "        pref[n].reverse()\n",
    "rank={'d':{'a':2,'b':1,'c':3},'e':{'a':1,'b':2,'c':3},'f':{'a':1,'b':2,'c':3}}\n",
    "freemen=list(men)\n",
    "numpart=len(men)\n",
    "S={}\n",
    "while freemen:\n",
    "    m=freemen.pop()\n",
    "    if len(pref[m])==0:\n",
    "        continue\n",
    "    w=pref[m].pop()\n",
    "    if w not in S:\n",
    "        S[w]=m\n",
    "    else:\n",
    "        mprime=S[w]\n",
    "        if rank[w][m]<rank[w][mprime]:\n",
    "            S[w]=m\n",
    "            freemen.append(mprime)\n",
    "        else:\n",
    "            freemen.append(m)\n",
    "print S"
   ]
  },
  {
   "cell_type": "code",
   "execution_count": 3,
   "metadata": {
    "collapsed": true
   },
   "outputs": [],
   "source": [
    "list=['a','b']"
   ]
  },
  {
   "cell_type": "code",
   "execution_count": null,
   "metadata": {
    "collapsed": true
   },
   "outputs": [],
   "source": []
  },
  {
   "cell_type": "code",
   "execution_count": 8,
   "metadata": {
    "collapsed": false
   },
   "outputs": [
    {
     "data": {
      "text/plain": [
       "'c'"
      ]
     },
     "execution_count": 8,
     "metadata": {},
     "output_type": "execute_result"
    }
   ],
   "source": [
    "men.pop()"
   ]
  },
  {
   "cell_type": "code",
   "execution_count": 1,
   "metadata": {
    "collapsed": true
   },
   "outputs": [],
   "source": [
    "#deferred acceptance function\n",
    "#a　男リスト\n",
    "#c　preference list\n",
    "#d　女の男ランク\n",
    "def da(a,c,d):\n",
    "    for n in c:\n",
    "        c[n].reverse()\n",
    "    freemen=list(a)\n",
    "    numpart=len(a)\n",
    "    S={}\n",
    "    while freemen:\n",
    "        m=freemen.pop()\n",
    "        if len(c[m])==0:\n",
    "            continue\n",
    "        w=c[m].pop()\n",
    "        if w not in S:\n",
    "            S[w]=m\n",
    "        else:\n",
    "            mprime=S[w]\n",
    "            if d[w][m]<d[w][mprime]:\n",
    "                S[w]=m\n",
    "                freemen.append(mprime)\n",
    "            else:\n",
    "                freemen.append(m)\n",
    "    print S"
   ]
  },
  {
   "cell_type": "code",
   "execution_count": 2,
   "metadata": {
    "collapsed": false
   },
   "outputs": [
    {
     "name": "stdout",
     "output_type": "stream",
     "text": [
      "{'e': 'b', 'd': 'a', 'f': 'c'}\n"
     ]
    }
   ],
   "source": [
    "a=['a','b','c']\n",
    "c={'a':['d','e','f'],'b':['e','d','f'],'c':['d','e','f'],'d':['b','a','c'],'e':['a','b','c'],'f':['a','b','c']}\n",
    "d={'d':{'a':2,'b':1,'c':3},'e':{'a':1,'b':2,'c':3},'f':{'a':1,'b':2,'c':3}}\n",
    "da(a,c,d)"
   ]
  },
  {
   "cell_type": "code",
   "execution_count": null,
   "metadata": {
    "collapsed": false
   },
   "outputs": [],
   "source": [
    "range(1,3)"
   ]
  },
  {
   "cell_type": "code",
   "execution_count": 1,
   "metadata": {
    "collapsed": true
   },
   "outputs": [],
   "source": [
    "#引数をpref（順序付き）と人数\n",
    "# a={'a':{1:'d',2:'e',3:'f'},'b':{1:'e',2:'d',3:'f'},'c':{1:'d',2:'e',3:'f'}}\n",
    "#b={'d':{1:'b',2:'a',3:'c'},'e':{1:'a',2:'b',3:'c'},'f':{1:'a',2:'b',3:'c'}}\n",
    "#c=3\n",
    "def da2(a,b,c):\n",
    "    S={}\n",
    "    free=[]\n",
    "    for i in a:\n",
    "        free.append(i)\n",
    "    n=1\n",
    "    while free:\n",
    "        m=free.pop()\n",
    "        f=a[m][n]\n",
    "        if f not in S:\n",
    "            S[f]=m\n",
    "        else:\n",
    "            l=S[f]\n",
    "            for j in range(1,c+1):\n",
    "                if b[f][j]==m:\n",
    "                    d=j\n",
    "                else: continue\n",
    "            for k in range(1,c+1):\n",
    "                if b[f][k]==l:\n",
    "                    e=k\n",
    "                else: continue\n",
    "            if e<d:\n",
    "                free.append(m)\n",
    "                n+=1\n",
    "            else:\n",
    "                S[f]=m\n",
    "                free.append(l)\n",
    "                n+=1\n",
    "        if len(free)==0:\n",
    "            return S"
   ]
  },
  {
   "cell_type": "code",
   "execution_count": 2,
   "metadata": {
    "collapsed": true
   },
   "outputs": [],
   "source": [
    "a={'a':{1:'d',2:'e',3:'f'},'b':{1:'e',2:'d',3:'f'},'c':{1:'d',2:'e',3:'f'}}\n",
    "b={'d':{1:'b',2:'a',3:'c'},'e':{1:'a',2:'b',3:'c'},'f':{1:'a',2:'b',3:'c'}}\n",
    "c=3"
   ]
  },
  {
   "cell_type": "code",
   "execution_count": 3,
   "metadata": {
    "collapsed": false
   },
   "outputs": [
    {
     "data": {
      "text/plain": [
       "{'d': 'a', 'e': 'b', 'f': 'c'}"
      ]
     },
     "execution_count": 3,
     "metadata": {},
     "output_type": "execute_result"
    }
   ],
   "source": [
    "da2(a,b,c)"
   ]
  },
  {
   "cell_type": "code",
   "execution_count": 13,
   "metadata": {
    "collapsed": false
   },
   "outputs": [],
   "source": [
    "#引数をpref（順序付き）と人数\n",
    "#男プロポーズと女プロポーズの結果を同時に表示\n",
    "# a={'a':{1:'d',2:'e',3:'f'},'b':{1:'e',2:'d',3:'f'},'c':{1:'d',2:'e',3:'f'}}\n",
    "#b={'d':{1:'b',2:'a',3:'c'},'e':{1:'a',2:'b',3:'c'},'f':{1:'a',2:'b',3:'c'}}\n",
    "#c=3\n",
    "def da2(a,b,c):\n",
    "    S={}\n",
    "    free=[]\n",
    "    T={}\n",
    "    wfree=[]\n",
    "    for i in a:\n",
    "        free.append(i)\n",
    "    for i in b:\n",
    "        wfree.append(i)\n",
    "    n=1\n",
    "    while free:\n",
    "        m=free.pop()\n",
    "        f=a[m][n]\n",
    "        if f not in S:\n",
    "            S[f]=m\n",
    "        else:\n",
    "            l=S[f]\n",
    "            for j in range(1,c+1):\n",
    "                if b[f][j]==m:\n",
    "                    d=j\n",
    "                else: continue\n",
    "            for k in range(1,c+1):\n",
    "                if b[f][k]==l:\n",
    "                    e=k\n",
    "                else: continue\n",
    "            if e<d:\n",
    "                free.append(m)\n",
    "                n+=1\n",
    "            else:\n",
    "                S[f]=m\n",
    "                free.append(l)\n",
    "                n+=1\n",
    "        if len(free)==0: continue\n",
    "    g=1\n",
    "    while wfree:\n",
    "        m=wfree.pop()\n",
    "        f=b[m][g]\n",
    "        if f not in T:\n",
    "            T[f]=m\n",
    "        else:\n",
    "            l=T[f]\n",
    "            for j in range(1,c+1):\n",
    "                if a[f][j]==m:\n",
    "                    d=j\n",
    "                else: continue\n",
    "            for k in range(1,c+1):\n",
    "                if a[f][k]==l:\n",
    "                    e=k\n",
    "                else: continue\n",
    "            if e<d:\n",
    "                wfree.append(m)\n",
    "                g+=1\n",
    "            else:\n",
    "                T[f]=m\n",
    "                wfree.append(l)\n",
    "                g+=1\n",
    "        if len(wfree)==0:\n",
    "            return S,T"
   ]
  },
  {
   "cell_type": "code",
   "execution_count": 14,
   "metadata": {
    "collapsed": false
   },
   "outputs": [
    {
     "data": {
      "text/plain": [
       "({'d': 'a', 'e': 'b', 'f': 'c'}, {'a': 'e', 'b': 'd', 'c': 'f'})"
      ]
     },
     "execution_count": 14,
     "metadata": {},
     "output_type": "execute_result"
    }
   ],
   "source": [
    "da2(a,b,c)"
   ]
  },
  {
   "cell_type": "code",
   "execution_count": 17,
   "metadata": {
    "collapsed": false
   },
   "outputs": [],
   "source": [
    "x={1:{'a':'b','c':'d'}}\n",
    "y={2:{'e':'f'}}"
   ]
  },
  {
   "cell_type": "code",
   "execution_count": 19,
   "metadata": {
    "collapsed": false
   },
   "outputs": [],
   "source": [
    "x.update(y)"
   ]
  },
  {
   "cell_type": "code",
   "execution_count": 20,
   "metadata": {
    "collapsed": false
   },
   "outputs": [
    {
     "data": {
      "text/plain": [
       "{1: {'a': 'b', 'c': 'd'}, 2: {'e': 'f'}}"
      ]
     },
     "execution_count": 20,
     "metadata": {},
     "output_type": "execute_result"
    }
   ],
   "source": [
    "x"
   ]
  }
 ],
 "metadata": {
  "kernelspec": {
   "display_name": "Python 2",
   "language": "python",
   "name": "python2"
  },
  "language_info": {
   "codemirror_mode": {
    "name": "ipython",
    "version": 2
   },
   "file_extension": ".py",
   "mimetype": "text/x-python",
   "name": "python",
   "nbconvert_exporter": "python",
   "pygments_lexer": "ipython2",
   "version": "2.7.9"
  }
 },
 "nbformat": 4,
 "nbformat_minor": 0
}
