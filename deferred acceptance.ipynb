{
 "cells": [
  {
   "cell_type": "code",
   "execution_count": 1,
   "metadata": {
    "collapsed": false
   },
   "outputs": [
    {
     "name": "stdout",
     "output_type": "stream",
     "text": [
      "{'e': 'b', 'd': 'a', 'f': 'c'}\n"
     ]
    }
   ],
   "source": [
    "#なるほどね\n",
    "men=['a','b','c']\n",
    "women=['d','e','f']\n",
    "pref={'a':['d','e','f'],'b':['e','d','f'],'c':['d','e','f'],'d':['b','a','c'],'e':['a','b','c'],'f':['a','b','c']}\n",
    "for n in pref:\n",
    "        pref[n].reverse()\n",
    "rank={'d':{'a':2,'b':1,'c':3},'e':{'a':1,'b':2,'c':3},'f':{'a':1,'b':2,'c':3}}\n",
    "freemen=list(men)\n",
    "numpart=len(men)\n",
    "S={}\n",
    "while freemen:\n",
    "    m=freemen.pop()\n",
    "    if len(pref[m])==0:\n",
    "        continue\n",
    "    w=pref[m].pop()\n",
    "    if w not in S:\n",
    "        S[w]=m\n",
    "    else:\n",
    "        mprime=S[w]\n",
    "        if rank[w][m]<rank[w][mprime]:\n",
    "            S[w]=m\n",
    "            freemen.append(mprime)\n",
    "        else:\n",
    "            freemen.append(m)\n",
    "print S"
   ]
  },
  {
   "cell_type": "code",
   "execution_count": 8,
   "metadata": {
    "collapsed": false
   },
   "outputs": [
    {
     "data": {
      "text/plain": [
       "'c'"
      ]
     },
     "execution_count": 8,
     "metadata": {},
     "output_type": "execute_result"
    }
   ],
   "source": [
    "men.pop()"
   ]
  },
  {
   "cell_type": "code",
   "execution_count": null,
   "metadata": {
    "collapsed": true
   },
   "outputs": [],
   "source": []
  }
 ],
 "metadata": {
  "kernelspec": {
   "display_name": "Python 2",
   "language": "python",
   "name": "python2"
  },
  "language_info": {
   "codemirror_mode": {
    "name": "ipython",
    "version": 2
   },
   "file_extension": ".py",
   "mimetype": "text/x-python",
   "name": "python",
   "nbconvert_exporter": "python",
   "pygments_lexer": "ipython2",
   "version": "2.7.9"
  }
 },
 "nbformat": 4,
 "nbformat_minor": 0
}
