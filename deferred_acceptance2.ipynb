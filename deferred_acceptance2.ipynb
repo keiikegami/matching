{
 "cells": [
  {
   "cell_type": "code",
   "execution_count": 1,
   "metadata": {
    "collapsed": true
   },
   "outputs": [],
   "source": [
    "def da3(P,Q):\n",
    "    import numpy as np\n",
    "    import sys\n",
    "    \n",
    "    if isinstance(Q, list) != True and isinstance(Q,np.ndarray) != True:\n",
    "        print \"Input Error!!\"\n",
    "        sys.exit()\n",
    "        \n",
    "    if isinstance(P, list):\n",
    "        P = np.array(P)\n",
    "        Q = np.array(Q)\n",
    "    elif isinstance(P, np.ndarray):\n",
    "        print \"ndarray\"\n",
    "    else:\n",
    "        print \"Input Error!!\"\n",
    "        sys.exit()\n",
    "    N=P.shape[0]\n",
    "    G=Q.shape[0]\n",
    "    S=np.tile([-1],N)\n",
    "    free=range(N)\n",
    "    n=0\n",
    "    \n",
    "    while free:\n",
    "        #print S\n",
    "        #print n\n",
    "        \"\"\"\n",
    "        上のシャープを外すことで男性の婚約状況の一周ごとの推移を表示することができます\n",
    "        正しくない結果が返ってきている疑いのある時に様子を見るため使いましょう\n",
    "        \"\"\"\n",
    "        A=free.pop() \n",
    "        F=P[A,:][n]\n",
    "        if F==G:\n",
    "            S[A]=G\n",
    "            n=0\n",
    "        else:\n",
    "            for J in range(N+1):   \n",
    "                if Q[F,:][J]==A:\n",
    "                    D=J\n",
    "                if Q[F,:][J]==N:\n",
    "                    E=J\n",
    "            if E<D:\n",
    "                free.append(A)\n",
    "                n+=1\n",
    "            else:\n",
    "                if F not in S:\n",
    "                    S[A]=F\n",
    "                    n=0        \n",
    "                else:\n",
    "                    for y in range(N):\n",
    "                        if S[y]==F:\n",
    "                            M=y         \n",
    "                    for z in range(N+1):\n",
    "                        if Q[F,:][z]==M:\n",
    "                            Z=z\n",
    "                        if Q[F,:][z]==A:\n",
    "                            W=z\n",
    "                    if W<Z:\n",
    "                        S[A]=F\n",
    "                        S[M]=-1\n",
    "                        free.append(M)\n",
    "                        n=0\n",
    "                    else:\n",
    "                        free.append(A)\n",
    "                        n+=1\n",
    "        if len(free)==0:   \n",
    "            s=list(S)\n",
    "            L=np.tile([N],G)\n",
    "            l=list(L)\n",
    "            for u in s:\n",
    "                if u==G: continue  \n",
    "                else:\n",
    "                    v=s.index(u)\n",
    "                    l[u]=v\n",
    "            return s,l\n",
    "        else: continue"
   ]
  },
  {
   "cell_type": "code",
   "execution_count": 185,
   "metadata": {
    "collapsed": true
   },
   "outputs": [],
   "source": [
    "import numpy as np\n",
    "a=np.random.permutation(9)\n",
    "b=np.random.permutation(9)\n",
    "c=np.random.permutation(9)\n",
    "d=np.random.permutation(9)\n",
    "e=np.random.permutation(9)\n",
    "f=np.random.permutation(6)\n",
    "g=np.random.permutation(6)\n",
    "h=np.random.permutation(6)\n",
    "i=np.random.permutation(6)\n",
    "j=np.random.permutation(6)\n",
    "k=np.random.permutation(6)\n",
    "l=np.random.permutation(6)\n",
    "o=np.random.permutation(6)\n",
    "n_pref=np.vstack((a,b,c,d,e))\n",
    "m_pref=np.vstack((f,g,h,i,j,k,l,o))"
   ]
  },
  {
   "cell_type": "code",
   "execution_count": 186,
   "metadata": {
    "collapsed": false
   },
   "outputs": [
    {
     "name": "stdout",
     "output_type": "stream",
     "text": [
      "ndarray\n"
     ]
    },
    {
     "data": {
      "text/plain": [
       "([1, 4, 2, 5, 5, 5, 5, 0], [7, 0, 2, 8, 1])"
      ]
     },
     "execution_count": 186,
     "metadata": {},
     "output_type": "execute_result"
    }
   ],
   "source": [
    "da3(m_pref,n_pref)"
   ]
  },
  {
   "cell_type": "code",
   "execution_count": 128,
   "metadata": {
    "collapsed": false
   },
   "outputs": [
    {
     "data": {
      "text/plain": [
       "array([[1, 4, 3, 2, 5, 0],\n",
       "       [4, 0, 3, 1, 5, 2],\n",
       "       [4, 3, 0, 1, 5, 2],\n",
       "       [4, 0, 2, 3, 1, 5],\n",
       "       [5, 3, 0, 2, 1, 4],\n",
       "       [3, 0, 1, 2, 5, 4],\n",
       "       [4, 1, 5, 2, 0, 3],\n",
       "       [5, 4, 1, 0, 2, 3]])"
      ]
     },
     "execution_count": 128,
     "metadata": {},
     "output_type": "execute_result"
    }
   ],
   "source": [
    "m_pref"
   ]
  },
  {
   "cell_type": "code",
   "execution_count": 129,
   "metadata": {
    "collapsed": false
   },
   "outputs": [
    {
     "data": {
      "text/plain": [
       "array([[7, 3, 5, 8, 0, 2, 6, 4, 1],\n",
       "       [5, 6, 0, 1, 8, 3, 7, 4, 2],\n",
       "       [2, 4, 5, 0, 6, 7, 1, 8, 3],\n",
       "       [8, 7, 6, 0, 5, 2, 4, 3, 1],\n",
       "       [4, 8, 7, 5, 0, 1, 3, 6, 2]])"
      ]
     },
     "execution_count": 129,
     "metadata": {},
     "output_type": "execute_result"
    }
   ],
   "source": [
    "n_pref"
   ]
  },
  {
   "cell_type": "code",
   "execution_count": 187,
   "metadata": {
    "collapsed": false
   },
   "outputs": [
    {
     "data": {
      "text/plain": [
       "[0, 1, 2, 3, 4, 5, 6, 7]"
      ]
     },
     "execution_count": 187,
     "metadata": {},
     "output_type": "execute_result"
    }
   ],
   "source": [
    "list(range(8))"
   ]
  },
  {
   "cell_type": "code",
   "execution_count": null,
   "metadata": {
    "collapsed": true
   },
   "outputs": [],
   "source": []
  }
 ],
 "metadata": {
  "kernelspec": {
   "display_name": "Python 2",
   "language": "python",
   "name": "python2"
  },
  "language_info": {
   "codemirror_mode": {
    "name": "ipython",
    "version": 2
   },
   "file_extension": ".py",
   "mimetype": "text/x-python",
   "name": "python",
   "nbconvert_exporter": "python",
   "pygments_lexer": "ipython2",
   "version": "2.7.9"
  }
 },
 "nbformat": 4,
 "nbformat_minor": 0
}
