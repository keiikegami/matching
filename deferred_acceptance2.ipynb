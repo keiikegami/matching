{
 "cells": [
  {
   "cell_type": "code",
   "execution_count": 41,
   "metadata": {
    "collapsed": true
   },
   "outputs": [],
   "source": [
    "def da3(P,Q):\n",
    "    import numpy as np\n",
    "    import sys\n",
    "    \n",
    "    if isinstance(Q, list) != True and isinstance(Q,np.ndarray) != True:\n",
    "        print \"Input Error!!\"\n",
    "        sys.exit()\n",
    "        \n",
    "    if isinstance(P, list):\n",
    "        P = np.array(P)\n",
    "        Q = np.array(Q)\n",
    "    elif isinstance(P, np.ndarray):\n",
    "        print \"ndarray\"\n",
    "    else:\n",
    "        print \"Input Error!!\"\n",
    "        sys.exit()\n",
    "    N=P.shape[0]\n",
    "    G=Q.shape[0]\n",
    "    S=np.tile([-1],N)\n",
    "    free=range(N)\n",
    "    n=0\n",
    "    \n",
    "    while free:\n",
    "        print S\n",
    "        print n\n",
    "        \"\"\"\n",
    "        上のシャープを外すことで男性の婚約状況の一周ごとの推移を表示することができます\n",
    "        正しくない結果が返ってきている疑いのある時に様子を見るため使いましょう\n",
    "        \"\"\"\n",
    "        A=free.pop() \n",
    "        F=P[A,:][n]\n",
    "        if F==G:\n",
    "            S[A]=G\n",
    "            n=0\n",
    "        else:\n",
    "            for J in range(N+1):   \n",
    "                if Q[F,:][J]==A:\n",
    "                    D=J\n",
    "                if Q[F,:][J]==N:\n",
    "                    E=J\n",
    "            if E<D:\n",
    "                free.append(A)\n",
    "                n+=1\n",
    "            else:\n",
    "                if F not in S:\n",
    "                    S[A]=F\n",
    "                    n=0        \n",
    "                else:\n",
    "                    for y in range(N):\n",
    "                        if S[y]==F:\n",
    "                            M=y         \n",
    "                    for z in range(N+1):\n",
    "                        if Q[F,:][z]==M:\n",
    "                            Z=z\n",
    "                        if Q[F,:][z]==A:\n",
    "                            W=z\n",
    "                    if W<Z:\n",
    "                        S[A]=F\n",
    "                        S[M]=-1\n",
    "                        free.append(M)\n",
    "                        n=0\n",
    "                    else:\n",
    "                        free.append(A)\n",
    "                        n+=1\n",
    "        if len(free)==0:   \n",
    "            s=list(S)\n",
    "            L=np.tile([N],G)\n",
    "            l=list(L)\n",
    "            for u in s:\n",
    "                if u==G: continue  \n",
    "                else:\n",
    "                    v=s.index(u)\n",
    "                    l[u]=v\n",
    "            return s,l\n",
    "        else: continue"
   ]
  },
  {
   "cell_type": "code",
   "execution_count": 42,
   "metadata": {
    "collapsed": true
   },
   "outputs": [],
   "source": [
    "import numpy as np\n",
    "a=np.random.permutation(5)\n",
    "b=np.random.permutation(5)\n",
    "c=np.random.permutation(5)\n",
    "d=np.random.permutation(5)\n",
    "e=np.random.permutation(5)\n",
    "f=np.random.permutation(5)\n",
    "g=np.random.permutation(5)\n",
    "h=np.random.permutation(5)\n",
    "i=np.random.permutation(5)\n",
    "j=np.random.permutation(5)\n",
    "n_pref=np.vstack((a,b,c,d,e))\n",
    "m_pref=np.vstack((f,g,h,i,j))"
   ]
  },
  {
   "cell_type": "code",
   "execution_count": 43,
   "metadata": {
    "collapsed": false
   },
   "outputs": [
    {
     "data": {
      "text/plain": [
       "5"
      ]
     },
     "execution_count": 43,
     "metadata": {},
     "output_type": "execute_result"
    }
   ],
   "source": [
    "n_pref.shape[0]"
   ]
  },
  {
   "cell_type": "code",
   "execution_count": 44,
   "metadata": {
    "collapsed": false
   },
   "outputs": [
    {
     "name": "stdout",
     "output_type": "stream",
     "text": [
      "ndarray\n",
      "[-1 -1 -1 -1 -1]\n",
      "0\n"
     ]
    },
    {
     "ename": "IndexError",
     "evalue": "index 5 is out of bounds for axis 0 with size 5",
     "output_type": "error",
     "traceback": [
      "\u001b[0;31m---------------------------------------------------------------------------\u001b[0m",
      "\u001b[0;31mIndexError\u001b[0m                                Traceback (most recent call last)",
      "\u001b[0;32m<ipython-input-44-a3aa45e23f2f>\u001b[0m in \u001b[0;36m<module>\u001b[0;34m()\u001b[0m\n\u001b[0;32m----> 1\u001b[0;31m \u001b[0mda3\u001b[0m\u001b[0;34m(\u001b[0m\u001b[0mm_pref\u001b[0m\u001b[0;34m,\u001b[0m\u001b[0mn_pref\u001b[0m\u001b[0;34m)\u001b[0m\u001b[0;34m\u001b[0m\u001b[0m\n\u001b[0m",
      "\u001b[0;32m<ipython-input-41-dbe93fe0fd24>\u001b[0m in \u001b[0;36mda3\u001b[0;34m(P, Q)\u001b[0m\n\u001b[1;32m     35\u001b[0m         \u001b[0;32melse\u001b[0m\u001b[0;34m:\u001b[0m\u001b[0;34m\u001b[0m\u001b[0m\n\u001b[1;32m     36\u001b[0m             \u001b[0;32mfor\u001b[0m \u001b[0mJ\u001b[0m \u001b[0;32min\u001b[0m \u001b[0mrange\u001b[0m\u001b[0;34m(\u001b[0m\u001b[0mN\u001b[0m\u001b[0;34m+\u001b[0m\u001b[0;36m1\u001b[0m\u001b[0;34m)\u001b[0m\u001b[0;34m:\u001b[0m\u001b[0;34m\u001b[0m\u001b[0m\n\u001b[0;32m---> 37\u001b[0;31m                 \u001b[0;32mif\u001b[0m \u001b[0mQ\u001b[0m\u001b[0;34m[\u001b[0m\u001b[0mF\u001b[0m\u001b[0;34m,\u001b[0m\u001b[0;34m:\u001b[0m\u001b[0;34m]\u001b[0m\u001b[0;34m[\u001b[0m\u001b[0mJ\u001b[0m\u001b[0;34m]\u001b[0m\u001b[0;34m==\u001b[0m\u001b[0mA\u001b[0m\u001b[0;34m:\u001b[0m\u001b[0;34m\u001b[0m\u001b[0m\n\u001b[0m\u001b[1;32m     38\u001b[0m                     \u001b[0mD\u001b[0m\u001b[0;34m=\u001b[0m\u001b[0mJ\u001b[0m\u001b[0;34m\u001b[0m\u001b[0m\n\u001b[1;32m     39\u001b[0m                 \u001b[0;32mif\u001b[0m \u001b[0mQ\u001b[0m\u001b[0;34m[\u001b[0m\u001b[0mF\u001b[0m\u001b[0;34m,\u001b[0m\u001b[0;34m:\u001b[0m\u001b[0;34m]\u001b[0m\u001b[0;34m[\u001b[0m\u001b[0mJ\u001b[0m\u001b[0;34m]\u001b[0m\u001b[0;34m==\u001b[0m\u001b[0mN\u001b[0m\u001b[0;34m:\u001b[0m\u001b[0;34m\u001b[0m\u001b[0m\n",
      "\u001b[0;31mIndexError\u001b[0m: index 5 is out of bounds for axis 0 with size 5"
     ]
    }
   ],
   "source": [
    "da3(m_pref,n_pref)"
   ]
  },
  {
   "cell_type": "code",
   "execution_count": 128,
   "metadata": {
    "collapsed": false
   },
   "outputs": [
    {
     "data": {
      "text/plain": [
       "array([[1, 4, 3, 2, 5, 0],\n",
       "       [4, 0, 3, 1, 5, 2],\n",
       "       [4, 3, 0, 1, 5, 2],\n",
       "       [4, 0, 2, 3, 1, 5],\n",
       "       [5, 3, 0, 2, 1, 4],\n",
       "       [3, 0, 1, 2, 5, 4],\n",
       "       [4, 1, 5, 2, 0, 3],\n",
       "       [5, 4, 1, 0, 2, 3]])"
      ]
     },
     "execution_count": 128,
     "metadata": {},
     "output_type": "execute_result"
    }
   ],
   "source": [
    "m_pref"
   ]
  },
  {
   "cell_type": "code",
   "execution_count": 129,
   "metadata": {
    "collapsed": false
   },
   "outputs": [
    {
     "data": {
      "text/plain": [
       "array([[7, 3, 5, 8, 0, 2, 6, 4, 1],\n",
       "       [5, 6, 0, 1, 8, 3, 7, 4, 2],\n",
       "       [2, 4, 5, 0, 6, 7, 1, 8, 3],\n",
       "       [8, 7, 6, 0, 5, 2, 4, 3, 1],\n",
       "       [4, 8, 7, 5, 0, 1, 3, 6, 2]])"
      ]
     },
     "execution_count": 129,
     "metadata": {},
     "output_type": "execute_result"
    }
   ],
   "source": [
    "n_pref"
   ]
  },
  {
   "cell_type": "code",
   "execution_count": 187,
   "metadata": {
    "collapsed": false
   },
   "outputs": [
    {
     "data": {
      "text/plain": [
       "[0, 1, 2, 3, 4, 5, 6, 7]"
      ]
     },
     "execution_count": 187,
     "metadata": {},
     "output_type": "execute_result"
    }
   ],
   "source": [
    "list(range(8))"
   ]
  },
  {
   "cell_type": "code",
   "execution_count": 32,
   "metadata": {
    "collapsed": true
   },
   "outputs": [],
   "source": [
    "def da3(P,Q):\n",
    "    import numpy as np\n",
    "    import sys\n",
    "    np.asarray(P)\n",
    "    np.asarray(Q)\n",
    "    N=P.shape[0]\n",
    "    G=Q.shape[0]\n",
    "    S=np.tile([-1],N)\n",
    "    free=range(N)\n",
    "    n=0\n",
    "    \n",
    "    while free:\n",
    "        #print S\n",
    "        #print n\n",
    "        \"\"\"\n",
    "        上のシャープを外すことで男性の婚約状況の一周ごとの推移を表示することができます\n",
    "        正しくない結果が返ってきている疑いのある時に様子を見るため使いましょう\n",
    "        \"\"\"\n",
    "        A=free.pop() \n",
    "        F=P[A,:][n]\n",
    "        if F==G:\n",
    "            S[A]=G\n",
    "            n=0\n",
    "        else:\n",
    "            for J in range(N+1):   \n",
    "                if Q[F,:][J]==A:\n",
    "                    D=J\n",
    "                if Q[F,:][J]==N:\n",
    "                    E=J\n",
    "            if E<D:\n",
    "                free.append(A)\n",
    "                n+=1\n",
    "            else:\n",
    "                if F not in S:\n",
    "                    S[A]=F\n",
    "                    n=0        \n",
    "                else:\n",
    "                    for y in range(N):\n",
    "                        if S[y]==F:\n",
    "                            M=y         \n",
    "                    for z in range(N+1):\n",
    "                        if Q[F,:][z]==M:\n",
    "                            Z=z\n",
    "                        if Q[F,:][z]==A:\n",
    "                            W=z\n",
    "                    if W<Z:\n",
    "                        S[A]=F\n",
    "                        S[M]=-1\n",
    "                        free.append(M)\n",
    "                        n=0\n",
    "                    else:\n",
    "                        free.append(A)\n",
    "                        n+=1\n",
    "        if len(free)==0:   \n",
    "            s=list(S)\n",
    "            L=np.tile([N],G)\n",
    "            l=list(L)\n",
    "            for u in s:\n",
    "                if u==G: continue  \n",
    "                else:\n",
    "                    v=s.index(u)\n",
    "                    l[u]=v\n",
    "            return s,l\n",
    "        else: continue\n",
    "            \n",
    "#リスト内包表記は早い"
   ]
  },
  {
   "cell_type": "code",
   "execution_count": 33,
   "metadata": {
    "collapsed": false
   },
   "outputs": [
    {
     "ename": "IndexError",
     "evalue": "index 5 is out of bounds for axis 0 with size 5",
     "output_type": "error",
     "traceback": [
      "\u001b[0;31m---------------------------------------------------------------------------\u001b[0m",
      "\u001b[0;31mIndexError\u001b[0m                                Traceback (most recent call last)",
      "\u001b[0;32m<ipython-input-33-a3aa45e23f2f>\u001b[0m in \u001b[0;36m<module>\u001b[0;34m()\u001b[0m\n\u001b[0;32m----> 1\u001b[0;31m \u001b[0mda3\u001b[0m\u001b[0;34m(\u001b[0m\u001b[0mm_pref\u001b[0m\u001b[0;34m,\u001b[0m\u001b[0mn_pref\u001b[0m\u001b[0;34m)\u001b[0m\u001b[0;34m\u001b[0m\u001b[0m\n\u001b[0m",
      "\u001b[0;32m<ipython-input-32-6b86f0150f94>\u001b[0m in \u001b[0;36mda3\u001b[0;34m(P, Q)\u001b[0m\n\u001b[1;32m     24\u001b[0m         \u001b[0;32melse\u001b[0m\u001b[0;34m:\u001b[0m\u001b[0;34m\u001b[0m\u001b[0m\n\u001b[1;32m     25\u001b[0m             \u001b[0;32mfor\u001b[0m \u001b[0mJ\u001b[0m \u001b[0;32min\u001b[0m \u001b[0mrange\u001b[0m\u001b[0;34m(\u001b[0m\u001b[0mN\u001b[0m\u001b[0;34m+\u001b[0m\u001b[0;36m1\u001b[0m\u001b[0;34m)\u001b[0m\u001b[0;34m:\u001b[0m\u001b[0;34m\u001b[0m\u001b[0m\n\u001b[0;32m---> 26\u001b[0;31m                 \u001b[0;32mif\u001b[0m \u001b[0mQ\u001b[0m\u001b[0;34m[\u001b[0m\u001b[0mF\u001b[0m\u001b[0;34m,\u001b[0m\u001b[0;34m:\u001b[0m\u001b[0;34m]\u001b[0m\u001b[0;34m[\u001b[0m\u001b[0mJ\u001b[0m\u001b[0;34m]\u001b[0m\u001b[0;34m==\u001b[0m\u001b[0mA\u001b[0m\u001b[0;34m:\u001b[0m\u001b[0;34m\u001b[0m\u001b[0m\n\u001b[0m\u001b[1;32m     27\u001b[0m                     \u001b[0mD\u001b[0m\u001b[0;34m=\u001b[0m\u001b[0mJ\u001b[0m\u001b[0;34m\u001b[0m\u001b[0m\n\u001b[1;32m     28\u001b[0m                 \u001b[0;32mif\u001b[0m \u001b[0mQ\u001b[0m\u001b[0;34m[\u001b[0m\u001b[0mF\u001b[0m\u001b[0;34m,\u001b[0m\u001b[0;34m:\u001b[0m\u001b[0;34m]\u001b[0m\u001b[0;34m[\u001b[0m\u001b[0mJ\u001b[0m\u001b[0;34m]\u001b[0m\u001b[0;34m==\u001b[0m\u001b[0mN\u001b[0m\u001b[0;34m:\u001b[0m\u001b[0;34m\u001b[0m\u001b[0m\n",
      "\u001b[0;31mIndexError\u001b[0m: index 5 is out of bounds for axis 0 with size 5"
     ]
    }
   ],
   "source": [
    "da3(m_pref,n_pref)"
   ]
  },
  {
   "cell_type": "code",
   "execution_count": 2,
   "metadata": {
    "collapsed": false
   },
   "outputs": [],
   "source": [
    "a={}\n",
    "for i in range(5):\n",
    "    a[i]=[]"
   ]
  },
  {
   "cell_type": "code",
   "execution_count": 3,
   "metadata": {
    "collapsed": false
   },
   "outputs": [
    {
     "data": {
      "text/plain": [
       "{0: [], 1: [], 2: [], 3: [], 4: []}"
      ]
     },
     "execution_count": 3,
     "metadata": {},
     "output_type": "execute_result"
    }
   ],
   "source": [
    "a"
   ]
  },
  {
   "cell_type": "code",
   "execution_count": null,
   "metadata": {
    "collapsed": true
   },
   "outputs": [],
   "source": []
  }
 ],
 "metadata": {
  "kernelspec": {
   "display_name": "Python 2",
   "language": "python",
   "name": "python2"
  },
  "language_info": {
   "codemirror_mode": {
    "name": "ipython",
    "version": 2
   },
   "file_extension": ".py",
   "mimetype": "text/x-python",
   "name": "python",
   "nbconvert_exporter": "python",
   "pygments_lexer": "ipython2",
   "version": "2.7.9"
  }
 },
 "nbformat": 4,
 "nbformat_minor": 0
}
